{
 "cells": [
  {
   "cell_type": "markdown",
   "id": "attractive-representative",
   "metadata": {},
   "source": [
    "# Financial fraud detection and handling imbalanced data\n",
    "The main goal of this project is building a machine learning model for predicting financial fraud using [this synthetic financial fraud dataset from Kaggle](https://www.kaggle.com/ntnu-testimon/paysim1). In order to effectively do this, however, I want to first attempt to find a solution for handling severely imbalanced data in machine learning classification models. Financial fraud data is typically very imbalance, as a very low proportion of transactions are actually fraudulent, and this project aims at exploring different strategies for handling this imbalance and employing these strategies in building classification models.\n",
    "\n",
    "I will employ three strategies for handling the imbalanced data; oversampling, undersampling and class weights. I will apply these strategies to the training data for the model, essentially creating three different sets of training data for the model. I will then compare the results from the three different strategies.\n",
    "\n",
    "For each of the three sets of training data I will first run a baseline model with the default parameter settings in the algorithm, before running a grid search for hyperparameter tuning and running a tuned model to compare to the baseline model.\n",
    "\n",
    "It's difficult to say in advance how the different strategies will perform, but I'm expecting the undersampling strategy to yield the lowest performance, as it will entail removing most of the training data. I have no clear idea which of the other two strategies I expect to perform better. The best case scenario with the oversampling is that the generated samples will enrich the data and lead to better performance, but it could also serve to artificially reduce the variance in the data."
   ]
  },
  {
   "cell_type": "code",
   "execution_count": 1,
   "id": "veterinary-shareware",
   "metadata": {},
   "outputs": [
    {
     "name": "stdout",
     "output_type": "stream",
     "text": [
      "Requirement already satisfied: imblearn in /opt/anaconda3/lib/python3.8/site-packages (0.0)\n",
      "Requirement already satisfied: imbalanced-learn in /opt/anaconda3/lib/python3.8/site-packages (from imblearn) (0.8.0)\n",
      "Requirement already satisfied: joblib>=0.11 in /opt/anaconda3/lib/python3.8/site-packages (from imbalanced-learn->imblearn) (1.0.1)\n",
      "Requirement already satisfied: scikit-learn>=0.24 in /opt/anaconda3/lib/python3.8/site-packages (from imbalanced-learn->imblearn) (0.24.1)\n",
      "Requirement already satisfied: scipy>=0.19.1 in /opt/anaconda3/lib/python3.8/site-packages (from imbalanced-learn->imblearn) (1.6.1)\n",
      "Requirement already satisfied: numpy>=1.13.3 in /opt/anaconda3/lib/python3.8/site-packages (from imbalanced-learn->imblearn) (1.19.2)\n",
      "Requirement already satisfied: threadpoolctl>=2.0.0 in /opt/anaconda3/lib/python3.8/site-packages (from scikit-learn>=0.24->imbalanced-learn->imblearn) (2.1.0)\n",
      "Requirement already satisfied: xgboost in /opt/anaconda3/lib/python3.8/site-packages (1.3.3)\n",
      "Requirement already satisfied: scipy in /opt/anaconda3/lib/python3.8/site-packages (from xgboost) (1.6.1)\n",
      "Requirement already satisfied: numpy in /opt/anaconda3/lib/python3.8/site-packages (from xgboost) (1.19.2)\n"
     ]
    }
   ],
   "source": [
    "!pip3 install imblearn\n",
    "!pip3 install xgboost"
   ]
  },
  {
   "cell_type": "code",
   "execution_count": 2,
   "id": "confirmed-corporation",
   "metadata": {},
   "outputs": [],
   "source": [
    "import pandas as pd\n",
    "import numpy as np\n",
    "import matplotlib.pyplot as plt\n",
    "%matplotlib inline\n",
    "import seaborn as sb\n",
    "\n",
    "from sklearn.model_selection import train_test_split, GridSearchCV\n",
    "from sklearn.preprocessing import StandardScaler\n",
    "from sklearn.metrics import roc_auc_score, confusion_matrix, plot_confusion_matrix\n",
    "from imblearn.over_sampling import SMOTE\n",
    "from imblearn.under_sampling import ClusterCentroids\n",
    "from xgboost import XGBClassifier, plot_importance"
   ]
  },
  {
   "cell_type": "code",
   "execution_count": 3,
   "id": "accessible-royal",
   "metadata": {},
   "outputs": [],
   "source": [
    "df = pd.read_csv('transactions.csv')"
   ]
  },
  {
   "cell_type": "code",
   "execution_count": 4,
   "id": "dense-tomorrow",
   "metadata": {},
   "outputs": [
    {
     "data": {
      "text/html": [
       "<div>\n",
       "<style scoped>\n",
       "    .dataframe tbody tr th:only-of-type {\n",
       "        vertical-align: middle;\n",
       "    }\n",
       "\n",
       "    .dataframe tbody tr th {\n",
       "        vertical-align: top;\n",
       "    }\n",
       "\n",
       "    .dataframe thead th {\n",
       "        text-align: right;\n",
       "    }\n",
       "</style>\n",
       "<table border=\"1\" class=\"dataframe\">\n",
       "  <thead>\n",
       "    <tr style=\"text-align: right;\">\n",
       "      <th></th>\n",
       "      <th>step</th>\n",
       "      <th>type</th>\n",
       "      <th>amount</th>\n",
       "      <th>nameOrig</th>\n",
       "      <th>oldbalanceOrg</th>\n",
       "      <th>newbalanceOrig</th>\n",
       "      <th>nameDest</th>\n",
       "      <th>oldbalanceDest</th>\n",
       "      <th>newbalanceDest</th>\n",
       "      <th>isFraud</th>\n",
       "      <th>isFlaggedFraud</th>\n",
       "    </tr>\n",
       "  </thead>\n",
       "  <tbody>\n",
       "    <tr>\n",
       "      <th>0</th>\n",
       "      <td>1</td>\n",
       "      <td>PAYMENT</td>\n",
       "      <td>9839.64</td>\n",
       "      <td>C1231006815</td>\n",
       "      <td>170136.00</td>\n",
       "      <td>160296.36</td>\n",
       "      <td>M1979787155</td>\n",
       "      <td>0.0</td>\n",
       "      <td>0.00</td>\n",
       "      <td>0</td>\n",
       "      <td>0</td>\n",
       "    </tr>\n",
       "    <tr>\n",
       "      <th>1</th>\n",
       "      <td>1</td>\n",
       "      <td>PAYMENT</td>\n",
       "      <td>1864.28</td>\n",
       "      <td>C1666544295</td>\n",
       "      <td>21249.00</td>\n",
       "      <td>19384.72</td>\n",
       "      <td>M2044282225</td>\n",
       "      <td>0.0</td>\n",
       "      <td>0.00</td>\n",
       "      <td>0</td>\n",
       "      <td>0</td>\n",
       "    </tr>\n",
       "    <tr>\n",
       "      <th>2</th>\n",
       "      <td>1</td>\n",
       "      <td>TRANSFER</td>\n",
       "      <td>181.00</td>\n",
       "      <td>C1305486145</td>\n",
       "      <td>181.00</td>\n",
       "      <td>0.00</td>\n",
       "      <td>C553264065</td>\n",
       "      <td>0.0</td>\n",
       "      <td>0.00</td>\n",
       "      <td>1</td>\n",
       "      <td>0</td>\n",
       "    </tr>\n",
       "    <tr>\n",
       "      <th>3</th>\n",
       "      <td>1</td>\n",
       "      <td>CASH_OUT</td>\n",
       "      <td>181.00</td>\n",
       "      <td>C840083671</td>\n",
       "      <td>181.00</td>\n",
       "      <td>0.00</td>\n",
       "      <td>C38997010</td>\n",
       "      <td>21182.0</td>\n",
       "      <td>0.00</td>\n",
       "      <td>1</td>\n",
       "      <td>0</td>\n",
       "    </tr>\n",
       "    <tr>\n",
       "      <th>4</th>\n",
       "      <td>1</td>\n",
       "      <td>PAYMENT</td>\n",
       "      <td>11668.14</td>\n",
       "      <td>C2048537720</td>\n",
       "      <td>41554.00</td>\n",
       "      <td>29885.86</td>\n",
       "      <td>M1230701703</td>\n",
       "      <td>0.0</td>\n",
       "      <td>0.00</td>\n",
       "      <td>0</td>\n",
       "      <td>0</td>\n",
       "    </tr>\n",
       "    <tr>\n",
       "      <th>5</th>\n",
       "      <td>1</td>\n",
       "      <td>PAYMENT</td>\n",
       "      <td>7817.71</td>\n",
       "      <td>C90045638</td>\n",
       "      <td>53860.00</td>\n",
       "      <td>46042.29</td>\n",
       "      <td>M573487274</td>\n",
       "      <td>0.0</td>\n",
       "      <td>0.00</td>\n",
       "      <td>0</td>\n",
       "      <td>0</td>\n",
       "    </tr>\n",
       "    <tr>\n",
       "      <th>6</th>\n",
       "      <td>1</td>\n",
       "      <td>PAYMENT</td>\n",
       "      <td>7107.77</td>\n",
       "      <td>C154988899</td>\n",
       "      <td>183195.00</td>\n",
       "      <td>176087.23</td>\n",
       "      <td>M408069119</td>\n",
       "      <td>0.0</td>\n",
       "      <td>0.00</td>\n",
       "      <td>0</td>\n",
       "      <td>0</td>\n",
       "    </tr>\n",
       "    <tr>\n",
       "      <th>7</th>\n",
       "      <td>1</td>\n",
       "      <td>PAYMENT</td>\n",
       "      <td>7861.64</td>\n",
       "      <td>C1912850431</td>\n",
       "      <td>176087.23</td>\n",
       "      <td>168225.59</td>\n",
       "      <td>M633326333</td>\n",
       "      <td>0.0</td>\n",
       "      <td>0.00</td>\n",
       "      <td>0</td>\n",
       "      <td>0</td>\n",
       "    </tr>\n",
       "    <tr>\n",
       "      <th>8</th>\n",
       "      <td>1</td>\n",
       "      <td>PAYMENT</td>\n",
       "      <td>4024.36</td>\n",
       "      <td>C1265012928</td>\n",
       "      <td>2671.00</td>\n",
       "      <td>0.00</td>\n",
       "      <td>M1176932104</td>\n",
       "      <td>0.0</td>\n",
       "      <td>0.00</td>\n",
       "      <td>0</td>\n",
       "      <td>0</td>\n",
       "    </tr>\n",
       "    <tr>\n",
       "      <th>9</th>\n",
       "      <td>1</td>\n",
       "      <td>DEBIT</td>\n",
       "      <td>5337.77</td>\n",
       "      <td>C712410124</td>\n",
       "      <td>41720.00</td>\n",
       "      <td>36382.23</td>\n",
       "      <td>C195600860</td>\n",
       "      <td>41898.0</td>\n",
       "      <td>40348.79</td>\n",
       "      <td>0</td>\n",
       "      <td>0</td>\n",
       "    </tr>\n",
       "  </tbody>\n",
       "</table>\n",
       "</div>"
      ],
      "text/plain": [
       "   step      type    amount     nameOrig  oldbalanceOrg  newbalanceOrig  \\\n",
       "0     1   PAYMENT   9839.64  C1231006815      170136.00       160296.36   \n",
       "1     1   PAYMENT   1864.28  C1666544295       21249.00        19384.72   \n",
       "2     1  TRANSFER    181.00  C1305486145         181.00            0.00   \n",
       "3     1  CASH_OUT    181.00   C840083671         181.00            0.00   \n",
       "4     1   PAYMENT  11668.14  C2048537720       41554.00        29885.86   \n",
       "5     1   PAYMENT   7817.71    C90045638       53860.00        46042.29   \n",
       "6     1   PAYMENT   7107.77   C154988899      183195.00       176087.23   \n",
       "7     1   PAYMENT   7861.64  C1912850431      176087.23       168225.59   \n",
       "8     1   PAYMENT   4024.36  C1265012928        2671.00            0.00   \n",
       "9     1     DEBIT   5337.77   C712410124       41720.00        36382.23   \n",
       "\n",
       "      nameDest  oldbalanceDest  newbalanceDest  isFraud  isFlaggedFraud  \n",
       "0  M1979787155             0.0            0.00        0               0  \n",
       "1  M2044282225             0.0            0.00        0               0  \n",
       "2   C553264065             0.0            0.00        1               0  \n",
       "3    C38997010         21182.0            0.00        1               0  \n",
       "4  M1230701703             0.0            0.00        0               0  \n",
       "5   M573487274             0.0            0.00        0               0  \n",
       "6   M408069119             0.0            0.00        0               0  \n",
       "7   M633326333             0.0            0.00        0               0  \n",
       "8  M1176932104             0.0            0.00        0               0  \n",
       "9   C195600860         41898.0        40348.79        0               0  "
      ]
     },
     "execution_count": 4,
     "metadata": {},
     "output_type": "execute_result"
    }
   ],
   "source": [
    "df.head(10)"
   ]
  },
  {
   "cell_type": "code",
   "execution_count": 5,
   "id": "classified-learning",
   "metadata": {},
   "outputs": [
    {
     "name": "stdout",
     "output_type": "stream",
     "text": [
      "<class 'pandas.core.frame.DataFrame'>\n",
      "RangeIndex: 6362620 entries, 0 to 6362619\n",
      "Data columns (total 11 columns):\n",
      " #   Column          Dtype  \n",
      "---  ------          -----  \n",
      " 0   step            int64  \n",
      " 1   type            object \n",
      " 2   amount          float64\n",
      " 3   nameOrig        object \n",
      " 4   oldbalanceOrg   float64\n",
      " 5   newbalanceOrig  float64\n",
      " 6   nameDest        object \n",
      " 7   oldbalanceDest  float64\n",
      " 8   newbalanceDest  float64\n",
      " 9   isFraud         int64  \n",
      " 10  isFlaggedFraud  int64  \n",
      "dtypes: float64(5), int64(3), object(3)\n",
      "memory usage: 534.0+ MB\n"
     ]
    }
   ],
   "source": [
    "df.info()"
   ]
  },
  {
   "cell_type": "code",
   "execution_count": 6,
   "id": "cellular-monster",
   "metadata": {},
   "outputs": [
    {
     "data": {
      "text/plain": [
       "step              0\n",
       "type              0\n",
       "amount            0\n",
       "nameOrig          0\n",
       "oldbalanceOrg     0\n",
       "newbalanceOrig    0\n",
       "nameDest          0\n",
       "oldbalanceDest    0\n",
       "newbalanceDest    0\n",
       "isFraud           0\n",
       "isFlaggedFraud    0\n",
       "dtype: int64"
      ]
     },
     "execution_count": 6,
     "metadata": {},
     "output_type": "execute_result"
    }
   ],
   "source": [
    "df.isnull().sum()"
   ]
  },
  {
   "cell_type": "markdown",
   "id": "manual-cartoon",
   "metadata": {},
   "source": [
    "## Exploratory data analysis (EDA)"
   ]
  },
  {
   "cell_type": "markdown",
   "id": "mysterious-broadcast",
   "metadata": {},
   "source": [
    "### Number and ratio of fraudulent transactions in the dataset"
   ]
  },
  {
   "cell_type": "code",
   "execution_count": 7,
   "id": "connected-carpet",
   "metadata": {},
   "outputs": [
    {
     "name": "stdout",
     "output_type": "stream",
     "text": [
      "Number of fraudulent transactions:  8213\n",
      "Number of non-fraudulent transactions:  6354407\n",
      "Percentage of fraudulent transactions:  0.13\n"
     ]
    }
   ],
   "source": [
    "n_fraud = df[df['isFraud'] == 1].shape[0]\n",
    "n_non_fraud = df[df['isFraud'] == 0].shape[0]\n",
    "print(\"Number of fraudulent transactions: \", n_fraud)\n",
    "print(\"Number of non-fraudulent transactions: \", n_non_fraud)\n",
    "print(\"Percentage of fraudulent transactions: \", round(n_fraud / (n_fraud + n_non_fraud) * 100, 2))"
   ]
  },
  {
   "cell_type": "code",
   "execution_count": 8,
   "id": "under-bulletin",
   "metadata": {},
   "outputs": [
    {
     "data": {
      "image/png": "[encoded data removed]",
      "text/plain": [
       "<Figure size 1008x360 with 2 Axes>"
      ]
     },
     "metadata": {
      "needs_background": "light"
     },
     "output_type": "display_data"
    }
   ],
   "source": [
    "plt.figure(figsize=[14,5])\n",
    "\n",
    "plt.subplot(1,2,1)\n",
    "plt.bar(np.arange(2), [n_non_fraud, n_fraud])\n",
    "plt.title('Number of valid and fraudulent transactions')\n",
    "plt.yticks(np.arange(0,7e6,1e6),['0','1m','2m','3m','4m','5m','6m'])\n",
    "plt.xticks(np.arange(2), ['Valid', 'Fraud']);\n",
    "\n",
    "plt.subplot(1,2,2)\n",
    "plt.bar(np.arange(2), [n_non_fraud, n_fraud])\n",
    "plt.title('Number of valid and fraudulent transactions on a log scale')\n",
    "plt.yscale('log')\n",
    "plt.yticks([1000,10000,100000,1000000,10000000],['1k','10k','100k','1m','10m'])\n",
    "plt.xticks(np.arange(2), ['Valid', 'Fraud']);"
   ]
  },
  {
   "cell_type": "markdown",
   "id": "listed-trigger",
   "metadata": {},
   "source": [
    "As we can see, the number of fraudulent transactions in the dataset is very low, making up only 0.13% of the entire dataset. The data is heavily imbalanced, as is excepted in a financial fraud dataset. This is important to keep in mind when choosing a strategy for building and deploying a classification model."
   ]
  },
  {
   "cell_type": "markdown",
   "id": "animated-straight",
   "metadata": {},
   "source": [
    "### Fraudulent transaction by transaction type"
   ]
  },
  {
   "cell_type": "code",
   "execution_count": 9,
   "id": "fatal-tragedy",
   "metadata": {},
   "outputs": [
    {
     "name": "stdout",
     "output_type": "stream",
     "text": [
      "Fraudulent transactions per transaction type:\n",
      " CASH_OUT    4116\n",
      "TRANSFER    4097\n",
      "Name: type, dtype: int64 \n",
      "\n",
      "Non-fraudulent transactions per transaction type:\n",
      " CASH_OUT    2233384\n",
      "PAYMENT     2151495\n",
      "CASH_IN     1399284\n",
      "TRANSFER     528812\n",
      "DEBIT         41432\n",
      "Name: type, dtype: int64\n"
     ]
    }
   ],
   "source": [
    "print(\"Fraudulent transactions per transaction type:\\n\", df[df['isFraud'] == 1].type.value_counts(), \"\\n\")\n",
    "print(\"Non-fraudulent transactions per transaction type:\\n\", df[df['isFraud'] == 0].type.value_counts())"
   ]
  },
  {
   "cell_type": "markdown",
   "id": "specified-boards",
   "metadata": {},
   "source": [
    "Fraudulent transactions only show up in two of the five transaction types, namely CASH_OUT and TRANSFER. There are no fraudulent transactions in PAYMENT, CASH_IN or DEBIT. This means I should subset the data to include only the two transaction types which contain fraudulent transactions. This is done with the assumption that, even though this dataset is a sample of a larger population, fraudulent transactions will only ever appear in these two transaction types."
   ]
  },
  {
   "cell_type": "code",
   "execution_count": 10,
   "id": "shaped-actor",
   "metadata": {},
   "outputs": [],
   "source": [
    "df_new = df.copy()\n",
    "df_new = df_new[(df_new['type'] == 'CASH_OUT') | (df_new['type'] == 'TRANSFER')]\n",
    "df_fraud = df_new.query('isFraud == 1')\n",
    "df_non_fraud = df_new.query('isFraud == 0')"
   ]
  },
  {
   "cell_type": "markdown",
   "id": "virtual-daughter",
   "metadata": {},
   "source": [
    "### Transactions flagged as fraud\n",
    "There is a column called `isFlaggedFraud`, which tells us if the transaction was flagges as fraud by a detection system. Let's look at what transactions are flagged as fraud"
   ]
  },
  {
   "cell_type": "code",
   "execution_count": 11,
   "id": "brief-classic",
   "metadata": {},
   "outputs": [
    {
     "name": "stdout",
     "output_type": "stream",
     "text": [
      "Number of transactions flagged as fraud:  16\n"
     ]
    }
   ],
   "source": [
    "print(\"Number of transactions flagged as fraud: \", df_new[df_new['isFlaggedFraud'] == 1].shape[0])"
   ]
  },
  {
   "cell_type": "markdown",
   "id": "partial-sister",
   "metadata": {},
   "source": [
    "In a dataset containing more than 6 million transactions, this information is not really significant or relevant at all. I will remove this column from further analysis"
   ]
  },
  {
   "cell_type": "code",
   "execution_count": 12,
   "id": "controlling-tanzania",
   "metadata": {},
   "outputs": [],
   "source": [
    "df_new.drop('isFlaggedFraud', axis=1, inplace=True)"
   ]
  },
  {
   "cell_type": "markdown",
   "id": "central-fabric",
   "metadata": {},
   "source": [
    "### Errors in account balance\n",
    "There seems to be a lot of zero values in the columns `newbalanceOrig` and `newbalanceDest`. I want to take a closer look at these to see if there is an error or missing data. Logically, the new balance in the origin account should be the old balance minus the transaction amount."
   ]
  },
  {
   "cell_type": "code",
   "execution_count": 13,
   "id": "intense-lightweight",
   "metadata": {},
   "outputs": [
    {
     "name": "stdout",
     "output_type": "stream",
     "text": [
      "Percentage of transactions with errors in balance after transaction:  96.08\n"
     ]
    }
   ],
   "source": [
    "errorbalance = ((df_new['oldbalanceOrg'] - df_new['amount'] != df_new['newbalanceOrig']) | \\\n",
    "                  (df_new['oldbalanceDest'] + df_new['amount'] != df_new['newbalanceDest'])).mean()\n",
    "print(\"Percentage of transactions with errors in balance after transaction: \", round(errorbalance*100, 2))"
   ]
  },
  {
   "cell_type": "markdown",
   "id": "banner-profit",
   "metadata": {},
   "source": [
    "96% of account balances after the transaction contain errors. Let's see if there is any difference in percentage for fraudulent and non-fraudulent transactions."
   ]
  },
  {
   "cell_type": "code",
   "execution_count": 14,
   "id": "compound-reporter",
   "metadata": {},
   "outputs": [
    {
     "name": "stdout",
     "output_type": "stream",
     "text": [
      "Percentage of balance errors in fraudulent transactions:  65.01\n",
      "Percentage of balance errors in non-fraudulent transactions:  96.17\n"
     ]
    }
   ],
   "source": [
    "fraud_error = ((df_fraud['oldbalanceOrg'] - df_fraud['amount'] != df_fraud['newbalanceOrig']) | \\\n",
    "                  (df_fraud['oldbalanceDest'] + df_fraud['amount'] != df_fraud['newbalanceDest']))\n",
    "nonfraud_error = ((df_non_fraud['oldbalanceOrg'] - df_non_fraud['amount'] != df_non_fraud['newbalanceOrig']) | \\\n",
    "                    (df_non_fraud['oldbalanceDest'] + df_non_fraud['amount'] != df_non_fraud['newbalanceDest']))\n",
    "print('Percentage of balance errors in fraudulent transactions: ', round(fraud_error.mean()*100,2))\n",
    "print('Percentage of balance errors in non-fraudulent transactions: ', round(nonfraud_error.mean()*100,2))"
   ]
  },
  {
   "cell_type": "markdown",
   "id": "preliminary-virgin",
   "metadata": {},
   "source": [
    "The percentage of balance error is actually lower in the fraudulent transactions than in the non-fraudulent transactions.\n",
    "\n",
    "Without more in-depth knowledge about the data, it's impossible to know the cause of the error balances. I'm also hesitant to attempt any corretions in the data og remove the balance columns, as they could contain valuable information for the model to identify fraudulent transactions. I will let the original balance columns be, but I will create a new column containing the size of the \"error\" (assuming that the new balance should be the old balance plus/minus the amount transferred)"
   ]
  },
  {
   "cell_type": "code",
   "execution_count": 15,
   "id": "reported-sucking",
   "metadata": {},
   "outputs": [],
   "source": [
    "# Create columns with size of error balance\n",
    "df_new['errorbalanceOrig'] = df_new.newbalanceOrig + df_new.amount - df_new.oldbalanceOrg\n",
    "df_new['errorbalanceDest'] = df_new.oldbalanceDest + df_new.amount - df_new.newbalanceDest"
   ]
  },
  {
   "cell_type": "code",
   "execution_count": 16,
   "id": "organized-spotlight",
   "metadata": {},
   "outputs": [
    {
     "data": {
      "text/plain": [
       "count    2.770409e+06\n",
       "mean     2.859850e+05\n",
       "std      8.753230e+05\n",
       "min     -1.000000e-02\n",
       "25%      5.185310e+04\n",
       "50%      1.435971e+05\n",
       "75%      2.798912e+05\n",
       "max      9.244552e+07\n",
       "Name: errorbalanceOrig, dtype: float64"
      ]
     },
     "execution_count": 16,
     "metadata": {},
     "output_type": "execute_result"
    }
   ],
   "source": [
    "df_new.errorbalanceOrig.describe()"
   ]
  },
  {
   "cell_type": "code",
   "execution_count": 17,
   "id": "digital-gardening",
   "metadata": {},
   "outputs": [
    {
     "data": {
      "image/png": "[encoded data removed]",
      "text/plain": [
       "<Figure size 576x432 with 1 Axes>"
      ]
     },
     "metadata": {
      "needs_background": "light"
     },
     "output_type": "display_data"
    }
   ],
   "source": [
    "plt.figure(figsize=[8,6])\n",
    "plt.scatter(data=df_new, x='errorbalanceDest', y='errorbalanceOrig', alpha=0.5)\n",
    "plt.title('Distribution of error balances', size=16)\n",
    "plt.xlabel('Error balance destination account')\n",
    "plt.ylabel('Error balance origin account');"
   ]
  },
  {
   "cell_type": "markdown",
   "id": "psychological-convert",
   "metadata": {},
   "source": [
    "The scatter plot above tells us that most of the balance errors for the origin account are more or less exclusively positive numbers, while balance errors for the destination account is mostly negative numbers"
   ]
  },
  {
   "cell_type": "code",
   "execution_count": 18,
   "id": "extended-hybrid",
   "metadata": {
    "scrolled": true
   },
   "outputs": [
    {
     "name": "stdout",
     "output_type": "stream",
     "text": [
      "Proportion of fraudulent errorbalanceOrig >0:  0.91\n",
      "Proportion of non-fraudulent errorbalanceOrig >0:  0.99 \n",
      "\n",
      "Proportion of fraudulent errorbalanceDest >0:  0.88\n",
      "Proportion of non-fraudulent errorbalanceDest >0:  0.47\n"
     ]
    }
   ],
   "source": [
    "fraud_errorOrig_pos = (df_new.query('isFraud == 1')['errorbalanceOrig']>0).sum() / (df_new.query('isFraud == 1')['errorbalanceOrig']!=0).sum()\n",
    "fraud_errorDest_pos = (df_new.query('isFraud == 1')['errorbalanceDest']>0).sum() / (df_new.query('isFraud == 1')['errorbalanceDest']!=0).sum()\n",
    "nonfraud_errorOrig_pos = (df_new.query('isFraud == 0')['errorbalanceOrig']>0).sum() / (df_new.query('isFraud == 0')['errorbalanceOrig']!=0).sum()\n",
    "nonfraud_errorDest_pos = (df_new.query('isFraud == 0')['errorbalanceDest']>0).sum() / (df_new.query('isFraud == 0')['errorbalanceDest']!=0).sum()\n",
    "\n",
    "print('Proportion of fraudulent errorbalanceOrig >0: ', round(fraud_errorOrig_pos,2))\n",
    "print('Proportion of non-fraudulent errorbalanceOrig >0: ', round(nonfraud_errorOrig_pos,2),'\\n')\n",
    "print('Proportion of fraudulent errorbalanceDest >0: ', round(fraud_errorDest_pos,2))\n",
    "print('Proportion of non-fraudulent errorbalanceDest >0: ', round(nonfraud_errorDest_pos,2))"
   ]
  },
  {
   "cell_type": "markdown",
   "id": "liquid-thirty",
   "metadata": {},
   "source": [
    "It's interesting to note that error balances in the origin account is a bit more likely to be positive in non-fraudulent transactions. As for error balances in the destination account, they are much more likely to be positive in fraudulent transactions. This could make the errorbalance features useful features for the classification model."
   ]
  },
  {
   "cell_type": "code",
   "execution_count": 19,
   "id": "criminal-rating",
   "metadata": {},
   "outputs": [
    {
     "data": {
      "text/html": [
       "<div>\n",
       "<style scoped>\n",
       "    .dataframe tbody tr th:only-of-type {\n",
       "        vertical-align: middle;\n",
       "    }\n",
       "\n",
       "    .dataframe tbody tr th {\n",
       "        vertical-align: top;\n",
       "    }\n",
       "\n",
       "    .dataframe thead th {\n",
       "        text-align: right;\n",
       "    }\n",
       "</style>\n",
       "<table border=\"1\" class=\"dataframe\">\n",
       "  <thead>\n",
       "    <tr style=\"text-align: right;\">\n",
       "      <th></th>\n",
       "      <th>step</th>\n",
       "      <th>type</th>\n",
       "      <th>amount</th>\n",
       "      <th>nameOrig</th>\n",
       "      <th>oldbalanceOrg</th>\n",
       "      <th>newbalanceOrig</th>\n",
       "      <th>nameDest</th>\n",
       "      <th>oldbalanceDest</th>\n",
       "      <th>newbalanceDest</th>\n",
       "      <th>isFraud</th>\n",
       "      <th>errorbalanceOrig</th>\n",
       "      <th>errorbalanceDest</th>\n",
       "    </tr>\n",
       "  </thead>\n",
       "  <tbody>\n",
       "    <tr>\n",
       "      <th>2</th>\n",
       "      <td>1</td>\n",
       "      <td>TRANSFER</td>\n",
       "      <td>181.00</td>\n",
       "      <td>C1305486145</td>\n",
       "      <td>181.0</td>\n",
       "      <td>0.0</td>\n",
       "      <td>C553264065</td>\n",
       "      <td>0.0</td>\n",
       "      <td>0.00</td>\n",
       "      <td>1</td>\n",
       "      <td>0.00</td>\n",
       "      <td>181.0</td>\n",
       "    </tr>\n",
       "    <tr>\n",
       "      <th>3</th>\n",
       "      <td>1</td>\n",
       "      <td>CASH_OUT</td>\n",
       "      <td>181.00</td>\n",
       "      <td>C840083671</td>\n",
       "      <td>181.0</td>\n",
       "      <td>0.0</td>\n",
       "      <td>C38997010</td>\n",
       "      <td>21182.0</td>\n",
       "      <td>0.00</td>\n",
       "      <td>1</td>\n",
       "      <td>0.00</td>\n",
       "      <td>21363.0</td>\n",
       "    </tr>\n",
       "    <tr>\n",
       "      <th>15</th>\n",
       "      <td>1</td>\n",
       "      <td>CASH_OUT</td>\n",
       "      <td>229133.94</td>\n",
       "      <td>C905080434</td>\n",
       "      <td>15325.0</td>\n",
       "      <td>0.0</td>\n",
       "      <td>C476402209</td>\n",
       "      <td>5083.0</td>\n",
       "      <td>51513.44</td>\n",
       "      <td>0</td>\n",
       "      <td>213808.94</td>\n",
       "      <td>182703.5</td>\n",
       "    </tr>\n",
       "    <tr>\n",
       "      <th>19</th>\n",
       "      <td>1</td>\n",
       "      <td>TRANSFER</td>\n",
       "      <td>215310.30</td>\n",
       "      <td>C1670993182</td>\n",
       "      <td>705.0</td>\n",
       "      <td>0.0</td>\n",
       "      <td>C1100439041</td>\n",
       "      <td>22425.0</td>\n",
       "      <td>0.00</td>\n",
       "      <td>0</td>\n",
       "      <td>214605.30</td>\n",
       "      <td>237735.3</td>\n",
       "    </tr>\n",
       "    <tr>\n",
       "      <th>24</th>\n",
       "      <td>1</td>\n",
       "      <td>TRANSFER</td>\n",
       "      <td>311685.89</td>\n",
       "      <td>C1984094095</td>\n",
       "      <td>10835.0</td>\n",
       "      <td>0.0</td>\n",
       "      <td>C932583850</td>\n",
       "      <td>6267.0</td>\n",
       "      <td>2719172.89</td>\n",
       "      <td>0</td>\n",
       "      <td>300850.89</td>\n",
       "      <td>-2401220.0</td>\n",
       "    </tr>\n",
       "  </tbody>\n",
       "</table>\n",
       "</div>"
      ],
      "text/plain": [
       "    step      type     amount     nameOrig  oldbalanceOrg  newbalanceOrig  \\\n",
       "2      1  TRANSFER     181.00  C1305486145          181.0             0.0   \n",
       "3      1  CASH_OUT     181.00   C840083671          181.0             0.0   \n",
       "15     1  CASH_OUT  229133.94   C905080434        15325.0             0.0   \n",
       "19     1  TRANSFER  215310.30  C1670993182          705.0             0.0   \n",
       "24     1  TRANSFER  311685.89  C1984094095        10835.0             0.0   \n",
       "\n",
       "       nameDest  oldbalanceDest  newbalanceDest  isFraud  errorbalanceOrig  \\\n",
       "2    C553264065             0.0            0.00        1              0.00   \n",
       "3     C38997010         21182.0            0.00        1              0.00   \n",
       "15   C476402209          5083.0        51513.44        0         213808.94   \n",
       "19  C1100439041         22425.0            0.00        0         214605.30   \n",
       "24   C932583850          6267.0      2719172.89        0         300850.89   \n",
       "\n",
       "    errorbalanceDest  \n",
       "2              181.0  \n",
       "3            21363.0  \n",
       "15          182703.5  \n",
       "19          237735.3  \n",
       "24        -2401220.0  "
      ]
     },
     "execution_count": 19,
     "metadata": {},
     "output_type": "execute_result"
    }
   ],
   "source": [
    "df_new.head()"
   ]
  },
  {
   "cell_type": "markdown",
   "id": "wicked-batch",
   "metadata": {},
   "source": [
    "### Transactions by time step\n",
    "The `step` feature in the dataset gives a timeline to the data. Each step is one hour and the total of 743 steps represent one month of transactions (30 days). Let's see if there is anything in particular about the distribution of transactions throughout the month."
   ]
  },
  {
   "cell_type": "code",
   "execution_count": 20,
   "id": "military-excess",
   "metadata": {},
   "outputs": [
    {
     "data": {
      "image/png": "[encoded data removed]",
      "text/plain": [
       "<Figure size 432x288 with 1 Axes>"
      ]
     },
     "metadata": {
      "needs_background": "light"
     },
     "output_type": "display_data"
    }
   ],
   "source": [
    "plt.hist(df_new.step, bins=40)\n",
    "plt.title('Number of transactions over time');"
   ]
  },
  {
   "cell_type": "markdown",
   "id": "armed-contractor",
   "metadata": {},
   "source": [
    "The distribution of transactions over time is quite uneven. There is an initial peak of transactions for the first 50-60 hours or so, and then a break before most of the transactions happen between about the 120-400 hour time step. Let's see if there is any difference between fraudulent and non-fraudulent transactions"
   ]
  },
  {
   "cell_type": "code",
   "execution_count": 21,
   "id": "metallic-explosion",
   "metadata": {},
   "outputs": [
    {
     "data": {
      "image/png": "[encoded data removed]",
      "text/plain": [
       "<Figure size 1296x360 with 2 Axes>"
      ]
     },
     "metadata": {
      "needs_background": "light"
     },
     "output_type": "display_data"
    }
   ],
   "source": [
    "plt.figure(figsize=[18,5])\n",
    "\n",
    "plt.subplot(1,2,1)\n",
    "plt.hist(df_new.query('isFraud == 0')['step'], bins=40, color='darkgoldenrod')\n",
    "plt.title('Number of non-fraudulent transactions over time', size=16);\n",
    "\n",
    "plt.subplot(1,2,2)\n",
    "plt.hist(df_new.query('isFraud == 1')['step'], bins=40, color='maroon')\n",
    "plt.title('Number of fraudulent transactions over time', size=16);"
   ]
  },
  {
   "cell_type": "markdown",
   "id": "informational-neighborhood",
   "metadata": {},
   "source": [
    "As we can see, the distributions of transactions over time is markedly different between fraudulent and non-fraudulent transactions. Fraudulent transactions are happening at a more or less unchanged rate regardless of time, while non-fraudulent transactions have a very uneven distribution. This could make the `step` feature useful for modelling. I'd like to break it down a bit and look at transactions throughout the day, ie. during a 24 hour period."
   ]
  },
  {
   "cell_type": "code",
   "execution_count": 22,
   "id": "played-somalia",
   "metadata": {},
   "outputs": [
    {
     "data": {
      "image/png": "[encoded data removed]",
      "text/plain": [
       "<Figure size 1296x360 with 2 Axes>"
      ]
     },
     "metadata": {
      "needs_background": "light"
     },
     "output_type": "display_data"
    }
   ],
   "source": [
    "plt.figure(figsize=[18,5])\n",
    "\n",
    "plt.subplot(1,2,1)\n",
    "plt.hist((df_new.query('isFraud == 0')['step']) % 24, bins=24, color='darkgoldenrod')\n",
    "plt.title('Number of non-fraudulent transactions per hour of the day', size=16);\n",
    "\n",
    "plt.subplot(1,2,2)\n",
    "plt.hist((df_new.query('isFraud == 1')['step']) % 24, bins=24, color='maroon')\n",
    "plt.title('Number of fraudulent transactions per hour of the day', size=16);"
   ]
  },
  {
   "cell_type": "markdown",
   "id": "athletic-three",
   "metadata": {},
   "source": [
    "It's important to note that I don't have any information about what the initial timestep is, so the first timestep is not necessarily the first hour of the first day (ie. 00:00 to 01:00), but looking at the distribution of non-fraudulent transactions, it seems to be a likely theory, with few transactions happening the first few hours (assuming this is the night time), and most of the transactions happening between time step 9 to 24.\n",
    "\n",
    "The distribution of fraudulent transactions is again very different from the non-fraudulent. They are evenly distributed throughout the day. This could be very useful information and I will therefore create a new feature in the data for hour of day."
   ]
  },
  {
   "cell_type": "code",
   "execution_count": 23,
   "id": "alternate-guyana",
   "metadata": {},
   "outputs": [],
   "source": [
    "# Create new column containing the hour of the day\n",
    "df_new['step_24h'] = df_new.step % 24"
   ]
  },
  {
   "cell_type": "markdown",
   "id": "special-vietnamese",
   "metadata": {},
   "source": [
    "### Account names\n",
    "Each transaction has an account name for the origin account and the destination account. For these features to be of further interest, there should be account names that show up multiple times in the fraudulent transactions."
   ]
  },
  {
   "cell_type": "code",
   "execution_count": 24,
   "id": "recovered-traffic",
   "metadata": {},
   "outputs": [
    {
     "name": "stdout",
     "output_type": "stream",
     "text": [
      "Maximum number of appearances of account name in nameOrig:  1 \n",
      "\n",
      "Maximum number of appearances of account name in nameDest:  2\n",
      "Number of multiple appearances:  44\n"
     ]
    }
   ],
   "source": [
    "print('Maximum number of appearances of account name in nameOrig: ', df_new.query('isFraud == 1').nameOrig.value_counts().nlargest(1).sum(),'\\n')\n",
    "print('Maximum number of appearances of account name in nameDest: ', df_new.query('isFraud == 1').nameDest.value_counts().nlargest(1).sum())\n",
    "print('Number of multiple appearances: ', ((df_new.query('isFraud == 1').nameDest.value_counts().values) > 1).sum())"
   ]
  },
  {
   "cell_type": "markdown",
   "id": "overhead-passage",
   "metadata": {},
   "source": [
    "All origin account names are unique in the fraudulent transactions. In the destination account names, 44 accounts show up twice, out of more than 8000 fraudulent transactions. After seeing these results, I don't think these features will give me any interesting information, and I will drop the columns from the dataset."
   ]
  },
  {
   "cell_type": "code",
   "execution_count": 25,
   "id": "radical-bunny",
   "metadata": {},
   "outputs": [],
   "source": [
    "df_new.drop(['nameOrig', 'nameDest'], axis=1, inplace=True)"
   ]
  },
  {
   "cell_type": "markdown",
   "id": "changed-acquisition",
   "metadata": {},
   "source": [
    "## Preprocessing data for modeling"
   ]
  },
  {
   "cell_type": "markdown",
   "id": "accepting-qatar",
   "metadata": {},
   "source": [
    "### Dummy categorical variable\n",
    "I'm left with one categorical variable in the dataset. This should be dummied out. Using the pandas get_dummies function I will replace the `type` column with new columns encoded with 0 or 1 for each transaction type."
   ]
  },
  {
   "cell_type": "code",
   "execution_count": 26,
   "id": "paperback-mining",
   "metadata": {},
   "outputs": [],
   "source": [
    "df_new = pd.get_dummies(df_new, prefix=['type'])"
   ]
  },
  {
   "cell_type": "markdown",
   "id": "desirable-diary",
   "metadata": {},
   "source": [
    "### Splitting to train and test data and scaling features\n",
    "The dataset must be split into training and test data before building a model. I also want to normalize the features using a scaler. This well normalize all the features into values between 0 and 1. Machine learning algorithms tend to perform better with normalized features."
   ]
  },
  {
   "cell_type": "code",
   "execution_count": 27,
   "id": "fallen-jacket",
   "metadata": {},
   "outputs": [],
   "source": [
    "# Set a random state to be able to reproduce results\n",
    "RandomState=5\n",
    "\n",
    "# Split dataset into features and response value\n",
    "X = df_new.drop('isFraud', axis=1)\n",
    "y = df_new.isFraud\n",
    "\n",
    "# Split into train and test datasets\n",
    "X_train, X_test, y_train, y_test = train_test_split(X, y, random_state=RandomState)\n",
    "\n",
    "# Instantiate scaler\n",
    "scaler = StandardScaler()\n",
    "\n",
    "# Fit the scaler on training data\n",
    "scaler.fit(X_train)\n",
    "\n",
    "# Transform the training and test data\n",
    "X_train = scaler.transform(X_train)\n",
    "X_test = scaler.transform(X_test)"
   ]
  },
  {
   "cell_type": "markdown",
   "id": "female-society",
   "metadata": {},
   "source": [
    "### Handling imbalanced data\n",
    "This dataset is, as financial fraud datasets typically are, very imbalanced. Only a small fraction of the transactions are in fact fraudulent. This can present a problem when using machine learning classification algorithms. As most cases are not fraudulent, the algorithm will be nearly 100% accurate if it simply classifies all transactions as non-fraudulent. We need to have a strategy for handling this imbalance in the data. I want to try three different strategies.\n",
    "\n",
    "1. Use an oversampling method to increase the number of fraudulent transactions in the training data.\n",
    "2. Use an undersampling method to decrease the number of non-fraudulent transactions in the training data.\n",
    "3. Use class weights in the machine learning algorithm without changing the training data beforehand."
   ]
  },
  {
   "cell_type": "markdown",
   "id": "sharp-stupid",
   "metadata": {},
   "source": [
    "#### Oversampling\n",
    "The first strategy is oversampling. I will be using Synthetic Minority Over-sampling (SMOTE) from the imbalanced learn python package. SMOTE creates synthetic data based on the existing data points in the minority class. This upsampling creates a balanced dataset with equal number of observations from both classes by increasing the number of observations with the minority class until it reaches the same number as the majority class. \n",
    "\n",
    "The downside of using this method is that you are essentially generating \"fake\" data, and it can only create data within the \"bounds\" of the existing data it can give your data variables lower variance than they actually have."
   ]
  },
  {
   "cell_type": "code",
   "execution_count": 28,
   "id": "cloudy-physiology",
   "metadata": {},
   "outputs": [],
   "source": [
    "# Create upsampled data using SMOTE\n",
    "X_train_upsample, y_train_upsample = SMOTE(random_state=RandomState).fit_resample(X_train, y_train)"
   ]
  },
  {
   "cell_type": "code",
   "execution_count": 29,
   "id": "frank-antenna",
   "metadata": {},
   "outputs": [
    {
     "data": {
      "text/plain": [
       "0    2071694\n",
       "1    2071694\n",
       "Name: isFraud, dtype: int64"
      ]
     },
     "execution_count": 29,
     "metadata": {},
     "output_type": "execute_result"
    }
   ],
   "source": [
    "y_train_upsample.value_counts()"
   ]
  },
  {
   "cell_type": "markdown",
   "id": "increasing-valuation",
   "metadata": {},
   "source": [
    "#### Undersampling\n",
    "Undersampling, as the name implies, does the opposite of oversampling. It reduces the number of observations in the majority class until it reaches the same number as the minority class. The downside to using this method is that you are removing a lot of data, which gives the algorithm a lot less information to work with. It's possible some of the removed data contains important information."
   ]
  },
  {
   "cell_type": "code",
   "execution_count": 30,
   "id": "threaded-water",
   "metadata": {},
   "outputs": [],
   "source": [
    "from imblearn.under_sampling import RandomUnderSampler"
   ]
  },
  {
   "cell_type": "code",
   "execution_count": 31,
   "id": "hundred-wisdom",
   "metadata": {},
   "outputs": [],
   "source": [
    "# Create downsampled data\n",
    "X_train_downsample, y_train_downsample = RandomUnderSampler(random_state=RandomState).fit_resample(X_train, y_train)"
   ]
  },
  {
   "cell_type": "code",
   "execution_count": 32,
   "id": "provincial-guitar",
   "metadata": {},
   "outputs": [
    {
     "data": {
      "text/plain": [
       "0    6112\n",
       "1    6112\n",
       "Name: isFraud, dtype: int64"
      ]
     },
     "execution_count": 32,
     "metadata": {},
     "output_type": "execute_result"
    }
   ],
   "source": [
    "y_train_downsample.value_counts()"
   ]
  },
  {
   "cell_type": "markdown",
   "id": "enclosed-cologne",
   "metadata": {},
   "source": [
    "#### Weighted\n",
    "The model using built-in class weight parameter from XGBoost will use the imbalanced training set generated from the train_test_split"
   ]
  },
  {
   "cell_type": "code",
   "execution_count": 53,
   "id": "seven-aggregate",
   "metadata": {},
   "outputs": [
    {
     "data": {
      "text/plain": [
       "0    2071694\n",
       "1       6112\n",
       "Name: isFraud, dtype: int64"
      ]
     },
     "execution_count": 53,
     "metadata": {},
     "output_type": "execute_result"
    }
   ],
   "source": [
    "y_train.value_counts()"
   ]
  },
  {
   "cell_type": "markdown",
   "id": "hydraulic-nashville",
   "metadata": {},
   "source": [
    "## Modeling\n",
    "It's time to start building and fitting models using the three different sets of training data created above. I will be using the XGBoost (Extreme Gradient Boosting Trees). It usually performs well with imbalanced data and is relatively fast when fitting the model, which could be important when using a large dataset like this.\n",
    "\n",
    "#### Evaluation metrics\n",
    "The first metric I will use for evaluating the results is the AUC (area under the ROC curve) score. This score indicates how well the model identifies samples as the correct class. The score gives a value between 0 and 1. 1 is the ideal score, and means that the model perfectly identifies the correct class. A score of 0.5 means that the model is completely unable to distinguish between the classes, and a score of 0 means that the model consistently classifies samples in the wrong class (ie. a complete reversal of a score of 1).\n",
    "\n",
    "The second evaluation metric I will use is the confusion matrix. The confusion matrix shows a grid of true negatives, false positives (type I error), false negatives (type II error) and true positives. Normally, type I errors would be considered the most serious type of error. The commonly used example is in the judicial process, where the most grave error would be to wrongly convict an innocent person (ie. a false positive). However, I would argue that in this specific field, the most important thing would be to prevent fraudulent transactions being flagged as valid (ie. a false negative or a type II error). This needs to be balanced with a reasonable number of false positives, as they create unnecessary work for the financial institution and inconveniences customers.\n",
    "\n",
    "#### Parameters\n",
    "For the different models below, I will run a grid search using Skicit learns GridSearchCV for tuning hyperparameters. Running a grid search on large datasets such as this i potentially very time consuming, and I need to limit the scope of the grid search. I decided to tune the hyperparameters `learning_rate`, `max_depth` and `gamma`. \n",
    "\n",
    "A lower learning rate can make the model more robust for preventing overfitting. The max_depth parameter sets the maximum depth of the trees. The deeper the tree, the more prone to overfitting. Gamma is also a parameter for controlling model complexity and reducing overfitting, and sets minimum loss reduction required to make further splits.\n",
    "\n",
    "As a further mitigation of long runtimes of grid searches, I decided I had to subset the data for both the oversampled and the weighted model when running the grid search, and then apply the best parameters of the grid search on the model using the full data. It should be noted that subsetting the data for the grid search could lead to suboptimal results in terms of best parameters, as the grid search is not actually tuning parameters for the full data.\n",
    "\n",
    "#### Functions\n",
    "Below I have defined some functions to clean up the code in the modeling process below"
   ]
  },
  {
   "cell_type": "code",
   "execution_count": 33,
   "id": "large-worker",
   "metadata": {},
   "outputs": [],
   "source": [
    "def subset_data(X, y, n=200000):\n",
    "    '''\n",
    "    Function to create a subset of the given X and y data\n",
    "    \n",
    "    Input:\n",
    "        X: X_train data\n",
    "        y: y_train data\n",
    "        n: sample size\n",
    "    Output:\n",
    "        sub_X: subset of X\n",
    "        sub_y: subset of y\n",
    "    '''\n",
    "    \n",
    "    #Subset the y_train\n",
    "    sub_y = y.reset_index(drop=True).sample(n, random_state=RandomState)\n",
    "    #Pull indices from y_train to pull the corresponding indices from X_train\n",
    "    idxs = sub_y.index.values\n",
    "    \n",
    "    #Subset the X_train\n",
    "    sub_X = X[idxs]\n",
    "    \n",
    "    return sub_X, sub_y"
   ]
  },
  {
   "cell_type": "code",
   "execution_count": 34,
   "id": "attached-identifier",
   "metadata": {},
   "outputs": [],
   "source": [
    "def grid_search_model(X, y):\n",
    "    '''\n",
    "    Function to set up and fit a GridSearchCV model using AUC score as metric\n",
    "    \n",
    "    Input:\n",
    "        X: X_train data\n",
    "        y: y_train data\n",
    "    Output:\n",
    "        Prints best parameters from the grid search\n",
    "    '''\n",
    "    \n",
    "    #Set parameters for the grid search\n",
    "    parameters = {\n",
    "        'learning_rate': [0.1, 0.2, 0.3],\n",
    "        'max_depth': [3, 5, 7],\n",
    "        'gamma': [0.1, 0.3, 0.5],\n",
    "        'use_label_encoder': [False]\n",
    "    }\n",
    "    \n",
    "    #Instantiate the grid search\n",
    "    grid_search = GridSearchCV(estimator=XGBClassifier(), param_grid=parameters, scoring='roc_auc', cv=3, n_jobs=-1, verbose=3)\n",
    "    \n",
    "    #Fit the grid_search model on the data\n",
    "    grid_result = grid_search.fit(X, y)\n",
    "    \n",
    "    #Return best parameters\n",
    "    print(\"Best parameters:\", grid_result.best_params_)"
   ]
  },
  {
   "cell_type": "code",
   "execution_count": 35,
   "id": "swedish-montgomery",
   "metadata": {},
   "outputs": [],
   "source": [
    "def display_metrics(preds, model, name='oversampled model'):\n",
    "    '''\n",
    "    Function to display and plot the results on the chosen evaluation metrics\n",
    "    \n",
    "    Input:\n",
    "        preds: which predictions to display results for\n",
    "        model: which model gave the predictions\n",
    "        name: name of model to use in plot title\n",
    "    Output:\n",
    "        Prints results for AUC score, confusion matrix and plots confusion matrix\n",
    "    '''\n",
    "    \n",
    "    print('Area under curve (AUC) score:\\n', roc_auc_score(y_test, preds), '\\n')\n",
    "    print('Confusion matrix:\\n', confusion_matrix(y_test, preds), '\\n')\n",
    "    \n",
    "    plot_title = 'Confusion matrix for '+name\n",
    "    plot_confusion_matrix(model, X_test, y_test, cmap='Blues')\n",
    "    plt.title(plot_title)"
   ]
  },
  {
   "cell_type": "markdown",
   "id": "offshore-authority",
   "metadata": {},
   "source": [
    "### Model with oversampled data"
   ]
  },
  {
   "cell_type": "markdown",
   "id": "severe-native",
   "metadata": {},
   "source": [
    "#### Base model (no parameter tuning)\n",
    "First I will run a base model using the oversampled data, ie. with no parameter tuning. I will compare the tuned model with this base model to assess improvement."
   ]
  },
  {
   "cell_type": "code",
   "execution_count": 36,
   "id": "maritime-gibraltar",
   "metadata": {},
   "outputs": [],
   "source": [
    "# Instatiate model\n",
    "base_model_oversamp = XGBClassifier(use_label_encoder=False, verbosity=0, random_state=RandomState)\n",
    "\n",
    "# Fit model to the training data\n",
    "base_model_oversamp.fit(X_train_upsample, y_train_upsample)\n",
    "\n",
    "# Predict on test data\n",
    "base_pred_oversamp = base_model_oversamp.predict(X_test)"
   ]
  },
  {
   "cell_type": "code",
   "execution_count": 37,
   "id": "characteristic-biography",
   "metadata": {
    "scrolled": false
   },
   "outputs": [
    {
     "name": "stdout",
     "output_type": "stream",
     "text": [
      "Area under curve (AUC) score:\n",
      " 0.9985467646395031 \n",
      "\n",
      "Confusion matrix:\n",
      " [[690467     35]\n",
      " [     6   2095]] \n",
      "\n"
     ]
    },
    {
     "data": {
      "image/png": "[encoded data removed]",
      "text/plain": [
       "<Figure size 432x288 with 2 Axes>"
      ]
     },
     "metadata": {
      "needs_background": "light"
     },
     "output_type": "display_data"
    }
   ],
   "source": [
    "#Display evaluation metrics for base oversampled model\n",
    "display_metrics(base_pred_oversamp, base_model_oversamp, 'baseline oversampled model')"
   ]
  },
  {
   "cell_type": "markdown",
   "id": "color-celebration",
   "metadata": {},
   "source": [
    "The results of the baseline oversampled model are quite encouraging. AUC score is very high, and the number of false negatives and false positives are not very high."
   ]
  },
  {
   "cell_type": "markdown",
   "id": "reasonable-parish",
   "metadata": {},
   "source": [
    "#### Parameter tuning to increase performance\n",
    "Before running the tuned model on the full oversampled training data, which is quite large and time consuming, I will subset the data and run a grid search using Scikit learn's GridSearchCV to find the best hyperparameters. Running grid search on the full data with over 4 million rows would be too time consuming."
   ]
  },
  {
   "cell_type": "code",
   "execution_count": 38,
   "id": "appropriate-jamaica",
   "metadata": {},
   "outputs": [],
   "source": [
    "#Subset the oversampled data\n",
    "sub_X_upsample, sub_y_upsample = subset_data(X_train_upsample, y_train_upsample, n=200000)"
   ]
  },
  {
   "cell_type": "code",
   "execution_count": 39,
   "id": "clinical-jesus",
   "metadata": {},
   "outputs": [
    {
     "name": "stdout",
     "output_type": "stream",
     "text": [
      "Fitting 3 folds for each of 27 candidates, totalling 81 fits\n",
      "Best parameters: {'gamma': 0.5, 'learning_rate': 0.3, 'max_depth': 5, 'use_label_encoder': False}\n"
     ]
    }
   ],
   "source": [
    "#Run grid search on subset of the oversampled data\n",
    "grid_search_model(sub_X_upsample, sub_y_upsample)"
   ]
  },
  {
   "cell_type": "markdown",
   "id": "vocal-manner",
   "metadata": {},
   "source": [
    "The grid search returned a learning rate of 0.3, max_depth of 5 and gamma of 0.3 as the best parameters for the subset of the oversampled data. I will use these hyperparameters in the model for the full oversampled data."
   ]
  },
  {
   "cell_type": "code",
   "execution_count": 40,
   "id": "funded-forge",
   "metadata": {
    "scrolled": true
   },
   "outputs": [],
   "source": [
    "# Instatiate model\n",
    "model_oversamp = XGBClassifier(learning_rate=0.3, max_depth=5, gamma=0.3, use_label_encoder=False, verbosity=0, random_state=RandomState)\n",
    "\n",
    "# Fit model to the training data\n",
    "model_oversamp.fit(X_train_upsample, y_train_upsample)\n",
    "\n",
    "# Predict on test data\n",
    "pred_oversamp = model_oversamp.predict(X_test)"
   ]
  },
  {
   "cell_type": "code",
   "execution_count": 41,
   "id": "skilled-training",
   "metadata": {},
   "outputs": [
    {
     "name": "stdout",
     "output_type": "stream",
     "text": [
      "Area under curve (AUC) score:\n",
      " 0.9987746090007779 \n",
      "\n",
      "Confusion matrix:\n",
      " [[690453     49]\n",
      " [     5   2096]] \n",
      "\n"
     ]
    },
    {
     "data": {
      "image/png": "[encoded data removed]",
      "text/plain": [
       "<Figure size 432x288 with 2 Axes>"
      ]
     },
     "metadata": {
      "needs_background": "light"
     },
     "output_type": "display_data"
    }
   ],
   "source": [
    "#Display evaluation metrics for oversampled model\n",
    "display_metrics(pred_oversamp, model_oversamp, 'tuned oversampled model')"
   ]
  },
  {
   "cell_type": "markdown",
   "id": "virgin-arthritis",
   "metadata": {},
   "source": [
    "The tuned model increased the AUC score slightly. It also reduced the number of false negatives from 6 to 5, but the number of false positives increased from 35 to 49. As I have defined false negatives as the most important error to avoid, on balance this could be regarded as an improvement on the base model. There is a business consideration to be made, however, as to whether the extra false positives are worth the slight decrease in false negatives."
   ]
  },
  {
   "cell_type": "markdown",
   "id": "statutory-cocktail",
   "metadata": {},
   "source": [
    "### Model with undersampled data"
   ]
  },
  {
   "cell_type": "markdown",
   "id": "durable-ceiling",
   "metadata": {},
   "source": [
    "#### Base model (no parameter tuning)"
   ]
  },
  {
   "cell_type": "code",
   "execution_count": 42,
   "id": "convertible-favor",
   "metadata": {},
   "outputs": [],
   "source": [
    "# Instantiate model\n",
    "base_model_undersamp = XGBClassifier(use_label_encoder=False, verbosity=0, random_state=RandomState)\n",
    "\n",
    "# Fit model to the training data\n",
    "base_model_undersamp.fit(X_train_downsample, y_train_downsample)\n",
    "\n",
    "# Predict on the test data\n",
    "base_pred_undersamp = base_model_undersamp.predict(X_test)"
   ]
  },
  {
   "cell_type": "code",
   "execution_count": 43,
   "id": "blank-marshall",
   "metadata": {},
   "outputs": [
    {
     "name": "stdout",
     "output_type": "stream",
     "text": [
      "Area under curve (AUC) score:\n",
      " 0.9988699410738913 \n",
      "\n",
      "Confusion matrix:\n",
      " [[690256    246]\n",
      " [     4   2097]] \n",
      "\n"
     ]
    },
    {
     "data": {
      "image/png": "[encoded data removed]",
      "text/plain": [
       "<Figure size 432x288 with 2 Axes>"
      ]
     },
     "metadata": {
      "needs_background": "light"
     },
     "output_type": "display_data"
    }
   ],
   "source": [
    "#Display evaluation metrics for undersampled model\n",
    "display_metrics(base_pred_undersamp, base_model_undersamp, 'baseline undersampled model')"
   ]
  },
  {
   "cell_type": "markdown",
   "id": "plain-canada",
   "metadata": {},
   "source": [
    "The results of the baseline undersampled model are quite different to the oversampled model. The AUC score is higher, and the number of false negatives is lower. The number of false positives, however, is much higher. Though I have defined false negatives as the most important metric, I would argue that this model would create too many false positives to be worth the slightly lower rate of false negatives."
   ]
  },
  {
   "cell_type": "markdown",
   "id": "automotive-hobby",
   "metadata": {},
   "source": [
    "#### Parameter tuning to increase performance"
   ]
  },
  {
   "cell_type": "code",
   "execution_count": 44,
   "id": "correct-cleveland",
   "metadata": {
    "scrolled": true
   },
   "outputs": [
    {
     "name": "stdout",
     "output_type": "stream",
     "text": [
      "Fitting 3 folds for each of 27 candidates, totalling 81 fits\n",
      "Best parameters: {'gamma': 0.3, 'learning_rate': 0.1, 'max_depth': 5, 'use_label_encoder': False}\n"
     ]
    }
   ],
   "source": [
    "#Run grid search on the undersampled data\n",
    "grid_search_model(X_train_downsample, y_train_downsample)"
   ]
  },
  {
   "cell_type": "markdown",
   "id": "nominated-sight",
   "metadata": {},
   "source": [
    "The grid search returned `learning_rate` of 0.1, `max_depth` of 5 and `gamma` of 0.3 as the best parameters for the undersampled data. I will use these parameters in the model. As the grid search was already run on the full data, the results should be identical."
   ]
  },
  {
   "cell_type": "code",
   "execution_count": 45,
   "id": "international-voluntary",
   "metadata": {},
   "outputs": [],
   "source": [
    "# Instantiate model\n",
    "model_undersamp = XGBClassifier(learning_rate=0.1, max_depth=5, gamma=0.3, use_label_encoder=False, verbosity=0, random_state=RandomState)\n",
    "\n",
    "# Fit model to the training data\n",
    "model_undersamp.fit(X_train_downsample, y_train_downsample)\n",
    "\n",
    "# Predict on the test data\n",
    "pred_undersamp = model_undersamp.predict(X_test)"
   ]
  },
  {
   "cell_type": "code",
   "execution_count": 46,
   "id": "understood-parker",
   "metadata": {
    "scrolled": false
   },
   "outputs": [
    {
     "name": "stdout",
     "output_type": "stream",
     "text": [
      "Area under curve (AUC) score:\n",
      " 0.9991245775371441 \n",
      "\n",
      "Confusion matrix:\n",
      " [[690279    223]\n",
      " [     3   2098]] \n",
      "\n"
     ]
    },
    {
     "data": {
      "image/png": "[encoded data removed]",
      "text/plain": [
       "<Figure size 432x288 with 2 Axes>"
      ]
     },
     "metadata": {
      "needs_background": "light"
     },
     "output_type": "display_data"
    }
   ],
   "source": [
    "#Display evaluation metrics for undersampled model\n",
    "display_metrics(pred_undersamp, model_undersamp, 'tuned undersampled model')"
   ]
  },
  {
   "cell_type": "markdown",
   "id": "laughing-possession",
   "metadata": {},
   "source": [
    "These results are interesting. We were able to further improve the AUC score and reduced the number of false negatives from 4 to 3, which is very, very low. We also improved the false positives slightly, but this number is still high.\n",
    "\n",
    "With such a low rate of false negatives, I would argue that an argument could possibly be made for accepting the high number of false positives for this very low rate of false negatives. An important factor in this consideration would be the average cost of false positives in terms of manually verifying the transaction and the inconvenience to the customer."
   ]
  },
  {
   "cell_type": "markdown",
   "id": "flush-scale",
   "metadata": {},
   "source": [
    "### Model with weighted algorithm"
   ]
  },
  {
   "cell_type": "markdown",
   "id": "informed-sandwich",
   "metadata": {},
   "source": [
    "#### Base model (no parameter tuning)"
   ]
  },
  {
   "cell_type": "code",
   "execution_count": 47,
   "id": "little-congo",
   "metadata": {},
   "outputs": [],
   "source": [
    "# Calculate weights for the classes to use in the algorithm\n",
    "weights = (y == 0).sum() / (1.0 * (y == 1).sum())\n",
    "\n",
    "# Instantiate the model\n",
    "base_model_weighted = XGBClassifier(scale_pos_weight=weights, use_label_encoder=False, verbosity=0, random_state=RandomState)\n",
    "\n",
    "# Fit model to the training data\n",
    "base_model_weighted.fit(X_train, y_train)\n",
    "\n",
    "# Predict on the test data\n",
    "base_pred_weighted = base_model_weighted.predict(X_test)"
   ]
  },
  {
   "cell_type": "code",
   "execution_count": 48,
   "id": "peripheral-export",
   "metadata": {},
   "outputs": [
    {
     "name": "stdout",
     "output_type": "stream",
     "text": [
      "Area under curve (AUC) score:\n",
      " 0.9988079181005343 \n",
      "\n",
      "Confusion matrix:\n",
      " [[690499      3]\n",
      " [     5   2096]] \n",
      "\n"
     ]
    },
    {
     "data": {
      "image/png": "[encoded data removed]",
      "text/plain": [
       "<Figure size 432x288 with 2 Axes>"
      ]
     },
     "metadata": {
      "needs_background": "light"
     },
     "output_type": "display_data"
    }
   ],
   "source": [
    "#Display evaluation metrics for base weighted model\n",
    "display_metrics(base_pred_weighted, base_model_weighted, 'baseline weighted model')"
   ]
  },
  {
   "cell_type": "markdown",
   "id": "afraid-banana",
   "metadata": {},
   "source": [
    "The results of the base weighted model are very good. The false negatives are slightly higher than the undersampled model, but the false positives are all but eliminated. This model has nearly eliminated the need to manually verify transactions falsely flagged as fraudulent, which is a very good tradeoff for allowing a few extra false negatives to slip through.\n",
    "\n",
    "It's hard to see how parameter tuning could improve this weighted model significantly, but I'll run the same grid search as for the other models."
   ]
  },
  {
   "cell_type": "markdown",
   "id": "anticipated-internship",
   "metadata": {},
   "source": [
    "#### Parameter tuning to increase performance"
   ]
  },
  {
   "cell_type": "code",
   "execution_count": 49,
   "id": "sublime-receiver",
   "metadata": {},
   "outputs": [],
   "source": [
    "#Subset the training data\n",
    "sub_X_weighted, sub_y_weighted = subset_data(X_train, y_train, n=200000)"
   ]
  },
  {
   "cell_type": "code",
   "execution_count": 50,
   "id": "interim-functionality",
   "metadata": {},
   "outputs": [
    {
     "name": "stdout",
     "output_type": "stream",
     "text": [
      "Fitting 3 folds for each of 27 candidates, totalling 81 fits\n",
      "Best parameters: {'gamma': 0.5, 'learning_rate': 0.1, 'max_depth': 7, 'use_label_encoder': False}\n"
     ]
    }
   ],
   "source": [
    "#Run grid search on subset of the data\n",
    "grid_search_model(sub_X_weighted, sub_y_weighted)"
   ]
  },
  {
   "cell_type": "markdown",
   "id": "empty-substitute",
   "metadata": {},
   "source": [
    "The grid search returned a `learning_rate` of 0.1, `max_depth` of 7 and `gamma` of 0.5 as the best parameters. I will use these parameters in the model using the full data."
   ]
  },
  {
   "cell_type": "code",
   "execution_count": 51,
   "id": "aging-encoding",
   "metadata": {},
   "outputs": [],
   "source": [
    "# Instantiate the model\n",
    "model_weighted = XGBClassifier(learning_rate=0.1, max_depth=7, gamma=0.5, scale_pos_weight=weights, use_label_encoder=False, verbosity=0, random_state=RandomState)\n",
    "\n",
    "# Fit model to the training data\n",
    "model_weighted.fit(X_train, y_train)\n",
    "\n",
    "# Predict on the test data\n",
    "pred_weighted = model_weighted.predict(X_test)"
   ]
  },
  {
   "cell_type": "code",
   "execution_count": 52,
   "id": "alternate-amsterdam",
   "metadata": {},
   "outputs": [
    {
     "name": "stdout",
     "output_type": "stream",
     "text": [
      "Area under curve (AUC) score:\n",
      " 0.9987811259985563 \n",
      "\n",
      "Confusion matrix:\n",
      " [[690462     40]\n",
      " [     5   2096]] \n",
      "\n"
     ]
    },
    {
     "data": {
      "image/png": "[encoded data removed]",
      "text/plain": [
       "<Figure size 432x288 with 2 Axes>"
      ]
     },
     "metadata": {
      "needs_background": "light"
     },
     "output_type": "display_data"
    }
   ],
   "source": [
    "#Display evaluation metrics for weighted model\n",
    "display_metrics(pred_weighted, model_weighted, 'tuned weighted model')"
   ]
  },
  {
   "cell_type": "markdown",
   "id": "tropical-zoning",
   "metadata": {},
   "source": [
    "The parameter tuning was not able to improve the performance of the weighted model. In fact, the AUC score is slightly lower and the number of false positives is quite a bit higher (still lower than the oversampled model, though). In this case, it seems the default parameters for the XGBoost classifier were better than the parameters used in the grid search."
   ]
  },
  {
   "cell_type": "markdown",
   "id": "distributed-engine",
   "metadata": {},
   "source": [
    "## Conclusion\n",
    "All the models performed very well in terms of AUC score and false negatives, but the weighted and the oversampled models performed considerably better than the undersampled model in terms of false positives. The baseline weighted model (with no parameter tuning) was by far the superior in terms of false positives.\n",
    "\n",
    "In financial fraud prediction, what you absolutely want to avoid is classifying a fraudulent transaction as a non-fraudulent transaction. As all models performed well on this metric, they all pass the most important test, with an advantage to the undersampled model. However, the amount of false positives generated by the undersampled model could present a problem in terms of unnecessary manual verification work for the financial institution as well as a large inconvenience for customers who would possible have their accounts or credit cards blocked while the transaction is verified. Financially, the cost of handling false positives could exceed the cost of a few extra false negatives.\n",
    "\n",
    "For this experiment, the weighed strategy was the most effective. The built in class weights parameter in the XGBoost classifier performed better than both strategies that relied on transforming the training data beforehand.\n",
    "\n",
    "Oversampling the data, thereby generating more data for the model to learn from, seems to have enabled the oversampled model to more effectively identify true negatives and avoid false positives. The undersampled model, however, has removed millions of rows and possibly lost out on some useful information. It performed the best on false negatives, but considerable worse on false positives."
   ]
  }
 ],
 "metadata": {
  "kernelspec": {
   "display_name": "Python 3",
   "language": "python",
   "name": "python3"
  },
  "language_info": {
   "codemirror_mode": {
    "name": "ipython",
    "version": 3
   },
   "file_extension": ".py",
   "mimetype": "text/x-python",
   "name": "python",
   "nbconvert_exporter": "python",
   "pygments_lexer": "ipython3",
   "version": "3.8.8"
  }
 },
 "nbformat": 4,
 "nbformat_minor": 5
}
